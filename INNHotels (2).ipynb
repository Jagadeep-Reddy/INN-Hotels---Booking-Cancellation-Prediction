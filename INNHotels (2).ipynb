{
  "nbformat": 4,
  "nbformat_minor": 0,
  "metadata": {
    "colab": {
      "provenance": []
    },
    "kernelspec": {
      "name": "python3",
      "display_name": "Python 3"
    },
    "language_info": {
      "name": "python"
    }
  },
  "cells": [
    {
      "cell_type": "code",
      "execution_count": 17,
      "metadata": {
        "colab": {
          "base_uri": "https://localhost:8080/",
          "height": 1000
        },
        "id": "Lfm7tP_-pxJA",
        "outputId": "c0e635f4-9897-4db5-9bff-6eca159b8f42"
      },
      "outputs": [
        {
          "output_type": "display_data",
          "data": {
            "text/plain": [
              "<IPython.core.display.HTML object>"
            ],
            "text/html": [
              "\n",
              "     <input type=\"file\" id=\"files-dc0ec73f-df58-4334-a9a8-d0696e99b35d\" name=\"files[]\" multiple disabled\n",
              "        style=\"border:none\" />\n",
              "     <output id=\"result-dc0ec73f-df58-4334-a9a8-d0696e99b35d\">\n",
              "      Upload widget is only available when the cell has been executed in the\n",
              "      current browser session. Please rerun this cell to enable.\n",
              "      </output>\n",
              "      <script>// Copyright 2017 Google LLC\n",
              "//\n",
              "// Licensed under the Apache License, Version 2.0 (the \"License\");\n",
              "// you may not use this file except in compliance with the License.\n",
              "// You may obtain a copy of the License at\n",
              "//\n",
              "//      http://www.apache.org/licenses/LICENSE-2.0\n",
              "//\n",
              "// Unless required by applicable law or agreed to in writing, software\n",
              "// distributed under the License is distributed on an \"AS IS\" BASIS,\n",
              "// WITHOUT WARRANTIES OR CONDITIONS OF ANY KIND, either express or implied.\n",
              "// See the License for the specific language governing permissions and\n",
              "// limitations under the License.\n",
              "\n",
              "/**\n",
              " * @fileoverview Helpers for google.colab Python module.\n",
              " */\n",
              "(function(scope) {\n",
              "function span(text, styleAttributes = {}) {\n",
              "  const element = document.createElement('span');\n",
              "  element.textContent = text;\n",
              "  for (const key of Object.keys(styleAttributes)) {\n",
              "    element.style[key] = styleAttributes[key];\n",
              "  }\n",
              "  return element;\n",
              "}\n",
              "\n",
              "// Max number of bytes which will be uploaded at a time.\n",
              "const MAX_PAYLOAD_SIZE = 100 * 1024;\n",
              "\n",
              "function _uploadFiles(inputId, outputId) {\n",
              "  const steps = uploadFilesStep(inputId, outputId);\n",
              "  const outputElement = document.getElementById(outputId);\n",
              "  // Cache steps on the outputElement to make it available for the next call\n",
              "  // to uploadFilesContinue from Python.\n",
              "  outputElement.steps = steps;\n",
              "\n",
              "  return _uploadFilesContinue(outputId);\n",
              "}\n",
              "\n",
              "// This is roughly an async generator (not supported in the browser yet),\n",
              "// where there are multiple asynchronous steps and the Python side is going\n",
              "// to poll for completion of each step.\n",
              "// This uses a Promise to block the python side on completion of each step,\n",
              "// then passes the result of the previous step as the input to the next step.\n",
              "function _uploadFilesContinue(outputId) {\n",
              "  const outputElement = document.getElementById(outputId);\n",
              "  const steps = outputElement.steps;\n",
              "\n",
              "  const next = steps.next(outputElement.lastPromiseValue);\n",
              "  return Promise.resolve(next.value.promise).then((value) => {\n",
              "    // Cache the last promise value to make it available to the next\n",
              "    // step of the generator.\n",
              "    outputElement.lastPromiseValue = value;\n",
              "    return next.value.response;\n",
              "  });\n",
              "}\n",
              "\n",
              "/**\n",
              " * Generator function which is called between each async step of the upload\n",
              " * process.\n",
              " * @param {string} inputId Element ID of the input file picker element.\n",
              " * @param {string} outputId Element ID of the output display.\n",
              " * @return {!Iterable<!Object>} Iterable of next steps.\n",
              " */\n",
              "function* uploadFilesStep(inputId, outputId) {\n",
              "  const inputElement = document.getElementById(inputId);\n",
              "  inputElement.disabled = false;\n",
              "\n",
              "  const outputElement = document.getElementById(outputId);\n",
              "  outputElement.innerHTML = '';\n",
              "\n",
              "  const pickedPromise = new Promise((resolve) => {\n",
              "    inputElement.addEventListener('change', (e) => {\n",
              "      resolve(e.target.files);\n",
              "    });\n",
              "  });\n",
              "\n",
              "  const cancel = document.createElement('button');\n",
              "  inputElement.parentElement.appendChild(cancel);\n",
              "  cancel.textContent = 'Cancel upload';\n",
              "  const cancelPromise = new Promise((resolve) => {\n",
              "    cancel.onclick = () => {\n",
              "      resolve(null);\n",
              "    };\n",
              "  });\n",
              "\n",
              "  // Wait for the user to pick the files.\n",
              "  const files = yield {\n",
              "    promise: Promise.race([pickedPromise, cancelPromise]),\n",
              "    response: {\n",
              "      action: 'starting',\n",
              "    }\n",
              "  };\n",
              "\n",
              "  cancel.remove();\n",
              "\n",
              "  // Disable the input element since further picks are not allowed.\n",
              "  inputElement.disabled = true;\n",
              "\n",
              "  if (!files) {\n",
              "    return {\n",
              "      response: {\n",
              "        action: 'complete',\n",
              "      }\n",
              "    };\n",
              "  }\n",
              "\n",
              "  for (const file of files) {\n",
              "    const li = document.createElement('li');\n",
              "    li.append(span(file.name, {fontWeight: 'bold'}));\n",
              "    li.append(span(\n",
              "        `(${file.type || 'n/a'}) - ${file.size} bytes, ` +\n",
              "        `last modified: ${\n",
              "            file.lastModifiedDate ? file.lastModifiedDate.toLocaleDateString() :\n",
              "                                    'n/a'} - `));\n",
              "    const percent = span('0% done');\n",
              "    li.appendChild(percent);\n",
              "\n",
              "    outputElement.appendChild(li);\n",
              "\n",
              "    const fileDataPromise = new Promise((resolve) => {\n",
              "      const reader = new FileReader();\n",
              "      reader.onload = (e) => {\n",
              "        resolve(e.target.result);\n",
              "      };\n",
              "      reader.readAsArrayBuffer(file);\n",
              "    });\n",
              "    // Wait for the data to be ready.\n",
              "    let fileData = yield {\n",
              "      promise: fileDataPromise,\n",
              "      response: {\n",
              "        action: 'continue',\n",
              "      }\n",
              "    };\n",
              "\n",
              "    // Use a chunked sending to avoid message size limits. See b/62115660.\n",
              "    let position = 0;\n",
              "    do {\n",
              "      const length = Math.min(fileData.byteLength - position, MAX_PAYLOAD_SIZE);\n",
              "      const chunk = new Uint8Array(fileData, position, length);\n",
              "      position += length;\n",
              "\n",
              "      const base64 = btoa(String.fromCharCode.apply(null, chunk));\n",
              "      yield {\n",
              "        response: {\n",
              "          action: 'append',\n",
              "          file: file.name,\n",
              "          data: base64,\n",
              "        },\n",
              "      };\n",
              "\n",
              "      let percentDone = fileData.byteLength === 0 ?\n",
              "          100 :\n",
              "          Math.round((position / fileData.byteLength) * 100);\n",
              "      percent.textContent = `${percentDone}% done`;\n",
              "\n",
              "    } while (position < fileData.byteLength);\n",
              "  }\n",
              "\n",
              "  // All done.\n",
              "  yield {\n",
              "    response: {\n",
              "      action: 'complete',\n",
              "    }\n",
              "  };\n",
              "}\n",
              "\n",
              "scope.google = scope.google || {};\n",
              "scope.google.colab = scope.google.colab || {};\n",
              "scope.google.colab._files = {\n",
              "  _uploadFiles,\n",
              "  _uploadFilesContinue,\n",
              "};\n",
              "})(self);\n",
              "</script> "
            ]
          },
          "metadata": {}
        },
        {
          "output_type": "stream",
          "name": "stdout",
          "text": [
            "Saving INNHotelsGroup.csv to INNHotelsGroup (2).csv\n",
            "File uploaded successfully. Proceeding with data loading.\n",
            "### Initial Data Snapshot ###\n",
            "  Booking_ID  no_of_adults  no_of_children  no_of_weekend_nights  \\\n",
            "0   INN00001             2               0                     1   \n",
            "1   INN00002             2               0                     2   \n",
            "2   INN00003             1               0                     2   \n",
            "3   INN00004             2               0                     0   \n",
            "4   INN00005             2               0                     1   \n",
            "\n",
            "   no_of_week_nights type_of_meal_plan  required_car_parking_space  \\\n",
            "0                  2       Meal Plan 1                           0   \n",
            "1                  3      Not Selected                           0   \n",
            "2                  1       Meal Plan 1                           0   \n",
            "3                  2       Meal Plan 1                           0   \n",
            "4                  1      Not Selected                           0   \n",
            "\n",
            "  room_type_reserved  lead_time  arrival_year  arrival_month  arrival_date  \\\n",
            "0        Room_Type 1        224          2017             10             2   \n",
            "1        Room_Type 1          5          2018             11             6   \n",
            "2        Room_Type 1          1          2018              2            28   \n",
            "3        Room_Type 1        211          2018              5            20   \n",
            "4        Room_Type 1         48          2018              4            11   \n",
            "\n",
            "  market_segment_type  repeated_guest  no_of_previous_cancellations  \\\n",
            "0             Offline               0                             0   \n",
            "1              Online               0                             0   \n",
            "2              Online               0                             0   \n",
            "3              Online               0                             0   \n",
            "4              Online               0                             0   \n",
            "\n",
            "   no_of_previous_bookings_not_canceled  avg_price_per_room  \\\n",
            "0                                     0               65.00   \n",
            "1                                     0              106.68   \n",
            "2                                     0               60.00   \n",
            "3                                     0              100.00   \n",
            "4                                     0               94.50   \n",
            "\n",
            "   no_of_special_requests booking_status  \n",
            "0                       0   Not_Canceled  \n",
            "1                       1   Not_Canceled  \n",
            "2                       0       Canceled  \n",
            "3                       0       Canceled  \n",
            "4                       0       Canceled  \n",
            "\n",
            "### Data Information ###\n",
            "<class 'pandas.core.frame.DataFrame'>\n",
            "RangeIndex: 36275 entries, 0 to 36274\n",
            "Data columns (total 19 columns):\n",
            " #   Column                                Non-Null Count  Dtype  \n",
            "---  ------                                --------------  -----  \n",
            " 0   Booking_ID                            36275 non-null  object \n",
            " 1   no_of_adults                          36275 non-null  int64  \n",
            " 2   no_of_children                        36275 non-null  int64  \n",
            " 3   no_of_weekend_nights                  36275 non-null  int64  \n",
            " 4   no_of_week_nights                     36275 non-null  int64  \n",
            " 5   type_of_meal_plan                     36275 non-null  object \n",
            " 6   required_car_parking_space            36275 non-null  int64  \n",
            " 7   room_type_reserved                    36275 non-null  object \n",
            " 8   lead_time                             36275 non-null  int64  \n",
            " 9   arrival_year                          36275 non-null  int64  \n",
            " 10  arrival_month                         36275 non-null  int64  \n",
            " 11  arrival_date                          36275 non-null  int64  \n",
            " 12  market_segment_type                   36275 non-null  object \n",
            " 13  repeated_guest                        36275 non-null  int64  \n",
            " 14  no_of_previous_cancellations          36275 non-null  int64  \n",
            " 15  no_of_previous_bookings_not_canceled  36275 non-null  int64  \n",
            " 16  avg_price_per_room                    36275 non-null  float64\n",
            " 17  no_of_special_requests                36275 non-null  int64  \n",
            " 18  booking_status                        36275 non-null  object \n",
            "dtypes: float64(1), int64(13), object(5)\n",
            "memory usage: 5.3+ MB\n",
            "\n",
            "### Statistical Summary ###\n",
            "       no_of_adults  no_of_children  no_of_weekend_nights  no_of_week_nights  \\\n",
            "count  36275.000000    36275.000000          36275.000000       36275.000000   \n",
            "mean       1.844962        0.105279              0.810724           2.204300   \n",
            "std        0.518715        0.402648              0.870644           1.410905   \n",
            "min        0.000000        0.000000              0.000000           0.000000   \n",
            "25%        2.000000        0.000000              0.000000           1.000000   \n",
            "50%        2.000000        0.000000              1.000000           2.000000   \n",
            "75%        2.000000        0.000000              2.000000           3.000000   \n",
            "max        4.000000       10.000000              7.000000          17.000000   \n",
            "\n",
            "       required_car_parking_space     lead_time  arrival_year  arrival_month  \\\n",
            "count                36275.000000  36275.000000  36275.000000   36275.000000   \n",
            "mean                     0.030986     85.232557   2017.820427       7.423653   \n",
            "std                      0.173281     85.930817      0.383836       3.069894   \n",
            "min                      0.000000      0.000000   2017.000000       1.000000   \n",
            "25%                      0.000000     17.000000   2018.000000       5.000000   \n",
            "50%                      0.000000     57.000000   2018.000000       8.000000   \n",
            "75%                      0.000000    126.000000   2018.000000      10.000000   \n",
            "max                      1.000000    443.000000   2018.000000      12.000000   \n",
            "\n",
            "       arrival_date  repeated_guest  no_of_previous_cancellations  \\\n",
            "count  36275.000000    36275.000000                  36275.000000   \n",
            "mean      15.596995        0.025637                      0.023349   \n",
            "std        8.740447        0.158053                      0.368331   \n",
            "min        1.000000        0.000000                      0.000000   \n",
            "25%        8.000000        0.000000                      0.000000   \n",
            "50%       16.000000        0.000000                      0.000000   \n",
            "75%       23.000000        0.000000                      0.000000   \n",
            "max       31.000000        1.000000                     13.000000   \n",
            "\n",
            "       no_of_previous_bookings_not_canceled  avg_price_per_room  \\\n",
            "count                          36275.000000        36275.000000   \n",
            "mean                               0.153411          103.423539   \n",
            "std                                1.754171           35.089424   \n",
            "min                                0.000000            0.000000   \n",
            "25%                                0.000000           80.300000   \n",
            "50%                                0.000000           99.450000   \n",
            "75%                                0.000000          120.000000   \n",
            "max                               58.000000          540.000000   \n",
            "\n",
            "       no_of_special_requests  \n",
            "count            36275.000000  \n",
            "mean                 0.619655  \n",
            "std                  0.786236  \n",
            "min                  0.000000  \n",
            "25%                  0.000000  \n",
            "50%                  0.000000  \n",
            "75%                  1.000000  \n",
            "max                  5.000000  \n"
          ]
        }
      ],
      "source": [
        "import pandas as pd\n",
        "import numpy as np\n",
        "import matplotlib.pyplot as plt\n",
        "import seaborn as sns\n",
        "import statsmodels.api as sm\n",
        "from sklearn.tree import DecisionTreeClassifier\n",
        "from sklearn.metrics import accuracy_score, classification_report\n",
        "from sklearn.model_selection import train_test_split\n",
        "from sklearn.preprocessing import StandardScaler\n",
        "\n",
        "try:\n",
        "    from google.colab import files\n",
        "    uploaded = files.upload()\n",
        "    print(\"File uploaded successfully. Proceeding with data loading.\")\n",
        "except ImportError:\n",
        "    print(\"Not in a Google Colab environment. Assuming file is in the local directory.\")\n",
        "# Load the dataset\n",
        "df = pd.read_csv('INNHotelsGroup.csv')\n",
        "\n",
        "# Display the first few rows\n",
        "print(\"### Initial Data Snapshot ###\")\n",
        "print(df.head())\n",
        "\n",
        "# Get summary information about the DataFrame\n",
        "print(\"\\n### Data Information ###\")\n",
        "df.info()\n",
        "\n",
        "# Get a statistical summary of numerical columns\n",
        "print(\"\\n### Statistical Summary ###\")\n",
        "print(df.describe())"
      ]
    },
    {
      "cell_type": "markdown",
      "source": [
        "1. What are the busiest months in the hotel?"
      ],
      "metadata": {
        "id": "6EgsxDI7rizW"
      }
    },
    {
      "cell_type": "code",
      "source": [
        "# Create a mapping for month numbers to names for better visualization\n",
        "month_mapping = {\n",
        "    1: 'Jan', 2: 'Feb', 3: 'Mar', 4: 'Apr', 5: 'May', 6: 'Jun',\n",
        "    7: 'Jul', 8: 'Aug', 9: 'Sep', 10: 'Oct', 11: 'Nov', 12: 'Dec'\n",
        "}\n",
        "df['arrival_month_name'] = df['arrival_month'].map(month_mapping)\n",
        "\n",
        "# Count bookings by month\n",
        "busiest_months = df['arrival_month_name'].value_counts().sort_index()\n",
        "\n",
        "# Sort the months chronologically\n",
        "ordered_months = ['Jan', 'Feb', 'Mar', 'Apr', 'May', 'Jun', 'Jul', 'Aug', 'Sep', 'Oct', 'Nov', 'Dec']\n",
        "busiest_months = busiest_months.reindex(ordered_months)\n",
        "\n",
        "print(\"### Bookings per Month ###\")\n",
        "print(busiest_months)\n",
        "\n",
        "plt.figure(figsize=(12, 6))\n",
        "sns.barplot(x=busiest_months.index, y=busiest_months.values, palette='viridis')\n",
        "plt.title('Number of Bookings per Month')\n",
        "plt.xlabel('Arrival Month')\n",
        "plt.ylabel('Number of Bookings')\n",
        "plt.show()"
      ],
      "metadata": {
        "colab": {
          "base_uri": "https://localhost:8080/",
          "height": 911
        },
        "id": "3XLzShN6rjkU",
        "outputId": "fe274355-c9e2-43f4-d598-2b1c97cf256b"
      },
      "execution_count": 18,
      "outputs": [
        {
          "output_type": "stream",
          "name": "stdout",
          "text": [
            "### Bookings per Month ###\n",
            "arrival_month_name\n",
            "Jan    1014\n",
            "Feb    1704\n",
            "Mar    2358\n",
            "Apr    2736\n",
            "May    2598\n",
            "Jun    3203\n",
            "Jul    2920\n",
            "Aug    3813\n",
            "Sep    4611\n",
            "Oct    5317\n",
            "Nov    2980\n",
            "Dec    3021\n",
            "Name: count, dtype: int64\n"
          ]
        },
        {
          "output_type": "stream",
          "name": "stderr",
          "text": [
            "/tmp/ipython-input-2558929300.py:19: FutureWarning: \n",
            "\n",
            "Passing `palette` without assigning `hue` is deprecated and will be removed in v0.14.0. Assign the `x` variable to `hue` and set `legend=False` for the same effect.\n",
            "\n",
            "  sns.barplot(x=busiest_months.index, y=busiest_months.values, palette='viridis')\n"
          ]
        },
        {
          "output_type": "display_data",
          "data": {
            "text/plain": [
              "<Figure size 1200x600 with 1 Axes>"
            ],
            "image/png": "[encoded data removed]"
          },
          "metadata": {}
        }
      ]
    },
    {
      "cell_type": "markdown",
      "source": [
        "2. Which market segment do most of the guests come from?"
      ],
      "metadata": {
        "id": "ejfIehSXrv1T"
      }
    },
    {
      "cell_type": "code",
      "source": [
        "# Count bookings by market segment\n",
        "market_segment_counts = df['market_segment_type'].value_counts()\n",
        "\n",
        "print(\"\\n### Bookings per Market Segment ###\")\n",
        "print(market_segment_counts)\n",
        "\n",
        "plt.figure(figsize=(10, 6))\n",
        "sns.barplot(x=market_segment_counts.index, y=market_segment_counts.values, palette='magma')\n",
        "plt.title('Number of Bookings per Market Segment Type')\n",
        "plt.xlabel('Market Segment Type')\n",
        "plt.ylabel('Number of Bookings')\n",
        "plt.xticks(rotation=45, ha='right')\n",
        "plt.show()"
      ],
      "metadata": {
        "id": "r3_C8zD1rwUV",
        "colab": {
          "base_uri": "https://localhost:8080/",
          "height": 882
        },
        "outputId": "98edd118-e7aa-423e-9f79-a948409f5dcb"
      },
      "execution_count": 19,
      "outputs": [
        {
          "output_type": "stream",
          "name": "stdout",
          "text": [
            "\n",
            "### Bookings per Market Segment ###\n",
            "market_segment_type\n",
            "Online           23214\n",
            "Offline          10528\n",
            "Corporate         2017\n",
            "Complementary      391\n",
            "Aviation           125\n",
            "Name: count, dtype: int64\n"
          ]
        },
        {
          "output_type": "stream",
          "name": "stderr",
          "text": [
            "/tmp/ipython-input-2411605946.py:8: FutureWarning: \n",
            "\n",
            "Passing `palette` without assigning `hue` is deprecated and will be removed in v0.14.0. Assign the `x` variable to `hue` and set `legend=False` for the same effect.\n",
            "\n",
            "  sns.barplot(x=market_segment_counts.index, y=market_segment_counts.values, palette='magma')\n"
          ]
        },
        {
          "output_type": "display_data",
          "data": {
            "text/plain": [
              "<Figure size 1000x600 with 1 Axes>"
            ],
            "image/png": "[encoded data removed]"
          },
          "metadata": {}
        }
      ]
    },
    {
      "cell_type": "markdown",
      "source": [
        "3. What are the differences in room prices in different market segments?"
      ],
      "metadata": {
        "id": "b3Ke0ENPtZZN"
      }
    },
    {
      "cell_type": "code",
      "source": [
        "# Calculate the average price per room for each market segment\n",
        "avg_price_by_segment = df.groupby('market_segment_type')['avg_price_per_room'].mean().sort_values(ascending=False)\n",
        "\n",
        "print(\"\\n### Average Room Price by Market Segment ###\")\n",
        "print(avg_price_by_segment)\n",
        "\n",
        "plt.figure(figsize=(10, 6))\n",
        "sns.barplot(x=avg_price_by_segment.index, y=avg_price_by_segment.values, palette='plasma')\n",
        "plt.title('Average Room Price by Market Segment Type')\n",
        "plt.xlabel('Market Segment Type')\n",
        "plt.ylabel('Average Price per Room (€)')\n",
        "plt.xticks(rotation=45, ha='right')\n",
        "plt.show()"
      ],
      "metadata": {
        "colab": {
          "base_uri": "https://localhost:8080/",
          "height": 882
        },
        "id": "GvTSoJp1tZ0g",
        "outputId": "414880a9-4800-4aa8-b8c7-883a4dd889a1"
      },
      "execution_count": 20,
      "outputs": [
        {
          "output_type": "stream",
          "name": "stdout",
          "text": [
            "\n",
            "### Average Room Price by Market Segment ###\n",
            "market_segment_type\n",
            "Online           112.256855\n",
            "Aviation         100.704000\n",
            "Offline           91.632679\n",
            "Corporate         82.911740\n",
            "Complementary      3.141765\n",
            "Name: avg_price_per_room, dtype: float64\n"
          ]
        },
        {
          "output_type": "stream",
          "name": "stderr",
          "text": [
            "/tmp/ipython-input-547861629.py:8: FutureWarning: \n",
            "\n",
            "Passing `palette` without assigning `hue` is deprecated and will be removed in v0.14.0. Assign the `x` variable to `hue` and set `legend=False` for the same effect.\n",
            "\n",
            "  sns.barplot(x=avg_price_by_segment.index, y=avg_price_by_segment.values, palette='plasma')\n"
          ]
        },
        {
          "output_type": "display_data",
          "data": {
            "text/plain": [
              "<Figure size 1000x600 with 1 Axes>"
            ],
            "image/png": "[encoded data removed]"
          },
          "metadata": {}
        }
      ]
    },
    {
      "cell_type": "markdown",
      "source": [
        "4. What percentage of bookings are canceled?"
      ],
      "metadata": {
        "id": "-4aPsre7tlim"
      }
    },
    {
      "cell_type": "code",
      "source": [
        "# Count the number of cancellations and non-cancellations\n",
        "booking_status_counts = df['booking_status'].value_counts()\n",
        "\n",
        "# Calculate the cancellation percentage\n",
        "cancellation_rate = (booking_status_counts['Canceled'] / booking_status_counts.sum()) * 100\n",
        "\n",
        "print(f\"\\n### Booking Cancellation Rate ###\")\n",
        "print(f\"Total Bookings: {booking_status_counts.sum()}\")\n",
        "print(f\"Canceled Bookings: {booking_status_counts['Canceled']}\")\n",
        "print(f\"Not Canceled Bookings: {booking_status_counts['Not_Canceled']}\")\n",
        "print(f\"Percentage of Canceled Bookings: {cancellation_rate:.2f}%\")\n",
        "\n",
        "plt.figure(figsize=(8, 8))\n",
        "plt.pie(booking_status_counts, labels=booking_status_counts.index, autopct='%1.1f%%', startangle=90, colors=['#ff9999','#66b3ff'])\n",
        "plt.title('Percentage of Canceled vs. Not Canceled Bookings')\n",
        "plt.show()"
      ],
      "metadata": {
        "colab": {
          "base_uri": "https://localhost:8080/",
          "height": 779
        },
        "id": "RTZQYYBGtl-b",
        "outputId": "0b5a1d72-cbf8-42cb-86d0-55f1451bbab9"
      },
      "execution_count": 21,
      "outputs": [
        {
          "output_type": "stream",
          "name": "stdout",
          "text": [
            "\n",
            "### Booking Cancellation Rate ###\n",
            "Total Bookings: 36275\n",
            "Canceled Bookings: 11885\n",
            "Not Canceled Bookings: 24390\n",
            "Percentage of Canceled Bookings: 32.76%\n"
          ]
        },
        {
          "output_type": "display_data",
          "data": {
            "text/plain": [
              "<Figure size 800x800 with 1 Axes>"
            ],
            "image/png": "[encoded data removed]"
          },
          "metadata": {}
        }
      ]
    },
    {
      "cell_type": "markdown",
      "source": [
        "5. What percentage of repeating guests cancel?"
      ],
      "metadata": {
        "id": "b-MY5aj9t7mZ"
      }
    },
    {
      "cell_type": "code",
      "source": [
        "# Filter for repeated guests\n",
        "repeated_guests_df = df[df['repeated_guest'] == 1]\n",
        "\n",
        "# Count cancellations among repeated guests\n",
        "repeated_guest_cancellations = repeated_guests_df['booking_status'].value_counts()\n",
        "total_repeated_guests = repeated_guest_cancellations.sum()\n",
        "\n",
        "# Calculate the cancellation percentage for repeated guests\n",
        "if 'Canceled' in repeated_guest_cancellations:\n",
        "    repeated_guest_cancellation_rate = (repeated_guest_cancellations['Canceled'] / total_repeated_guests) * 100\n",
        "else:\n",
        "    repeated_guest_cancellation_rate = 0.0\n",
        "\n",
        "print(f\"\\n### Cancellation Rate for Repeating Guests ###\")\n",
        "print(f\"Total bookings by repeating guests: {total_repeated_guests}\")\n",
        "print(f\"Canceled bookings by repeating guests: {repeated_guest_cancellations.get('Canceled', 0)}\")\n",
        "print(f\"Percentage of cancellations for repeating guests: {repeated_guest_cancellation_rate:.2f}%\")"
      ],
      "metadata": {
        "colab": {
          "base_uri": "https://localhost:8080/"
        },
        "id": "PhDBF9mMt8Dv",
        "outputId": "a84e5bea-6232-4d57-d702-4c09bdd4e1c5"
      },
      "execution_count": 22,
      "outputs": [
        {
          "output_type": "stream",
          "name": "stdout",
          "text": [
            "\n",
            "### Cancellation Rate for Repeating Guests ###\n",
            "Total bookings by repeating guests: 930\n",
            "Canceled bookings by repeating guests: 16\n",
            "Percentage of cancellations for repeating guests: 1.72%\n"
          ]
        }
      ]
    },
    {
      "cell_type": "markdown",
      "source": [
        "6. Do special requirements affect booking cancellation?"
      ],
      "metadata": {
        "id": "ChfQRe4vuIc7"
      }
    },
    {
      "cell_type": "code",
      "source": [
        "# Group by number of special requests and calculate cancellation rate\n",
        "requests_cancellation_rate = df.groupby('no_of_special_requests')['booking_status'].value_counts(normalize=True).unstack().get('Canceled', 0) * 100\n",
        "\n",
        "print(\"\\n### Cancellation Rate by Number of Special Requests ###\")\n",
        "print(requests_cancellation_rate)\n",
        "\n",
        "plt.figure(figsize=(10, 6))\n",
        "sns.barplot(x=requests_cancellation_rate.index, y=requests_cancellation_rate.values, palette='cubehelix')\n",
        "plt.title('Cancellation Rate by Number of Special Requests')\n",
        "plt.xlabel('Number of Special Requests')\n",
        "plt.ylabel('Cancellation Rate (%)')\n",
        "plt.show()"
      ],
      "metadata": {
        "colab": {
          "base_uri": "https://localhost:8080/",
          "height": 824
        },
        "id": "mQlIU8Y6uJZM",
        "outputId": "b6a7a548-36ca-44c1-a66c-9f24b86af7da"
      },
      "execution_count": 23,
      "outputs": [
        {
          "output_type": "stream",
          "name": "stdout",
          "text": [
            "\n",
            "### Cancellation Rate by Number of Special Requests ###\n",
            "no_of_special_requests\n",
            "0    43.206755\n",
            "1    23.766816\n",
            "2    14.596700\n",
            "3          NaN\n",
            "4          NaN\n",
            "5          NaN\n",
            "Name: Canceled, dtype: float64\n"
          ]
        },
        {
          "output_type": "stream",
          "name": "stderr",
          "text": [
            "/tmp/ipython-input-735206463.py:8: FutureWarning: \n",
            "\n",
            "Passing `palette` without assigning `hue` is deprecated and will be removed in v0.14.0. Assign the `x` variable to `hue` and set `legend=False` for the same effect.\n",
            "\n",
            "  sns.barplot(x=requests_cancellation_rate.index, y=requests_cancellation_rate.values, palette='cubehelix')\n"
          ]
        },
        {
          "output_type": "display_data",
          "data": {
            "text/plain": [
              "<Figure size 1000x600 with 1 Axes>"
            ],
            "image/png": "[encoded data removed]"
          },
          "metadata": {}
        }
      ]
    },
    {
      "cell_type": "markdown",
      "source": [
        "1. Missing Value Treatment"
      ],
      "metadata": {
        "id": "MaE102R2uboG"
      }
    },
    {
      "cell_type": "code",
      "source": [
        "print(\"### Missing Value Check ###\")\n",
        "print(df.isnull().sum())"
      ],
      "metadata": {
        "colab": {
          "base_uri": "https://localhost:8080/"
        },
        "id": "2MYgOCm0ucXh",
        "outputId": "d7795968-47f5-42ce-a30a-f1a7446034e2"
      },
      "execution_count": 24,
      "outputs": [
        {
          "output_type": "stream",
          "name": "stdout",
          "text": [
            "### Missing Value Check ###\n",
            "Booking_ID                              0\n",
            "no_of_adults                            0\n",
            "no_of_children                          0\n",
            "no_of_weekend_nights                    0\n",
            "no_of_week_nights                       0\n",
            "type_of_meal_plan                       0\n",
            "required_car_parking_space              0\n",
            "room_type_reserved                      0\n",
            "lead_time                               0\n",
            "arrival_year                            0\n",
            "arrival_month                           0\n",
            "arrival_date                            0\n",
            "market_segment_type                     0\n",
            "repeated_guest                          0\n",
            "no_of_previous_cancellations            0\n",
            "no_of_previous_bookings_not_canceled    0\n",
            "avg_price_per_room                      0\n",
            "no_of_special_requests                  0\n",
            "booking_status                          0\n",
            "arrival_month_name                      0\n",
            "dtype: int64\n"
          ]
        }
      ]
    },
    {
      "cell_type": "markdown",
      "source": [
        "2. Outlier Detection and Treatment"
      ],
      "metadata": {
        "id": "efiJK2fVuit6"
      }
    },
    {
      "cell_type": "code",
      "source": [
        "# Boxplot for avg_price_per_room\n",
        "plt.figure(figsize=(10, 6))\n",
        "sns.boxplot(x=df['avg_price_per_room'])\n",
        "plt.title('Box Plot of Average Price per Room')\n",
        "plt.show()\n",
        "\n",
        "# Investigate records with avg_price_per_room = 0\n",
        "zero_price_bookings = df[df['avg_price_per_room'] == 0].shape[0]\n",
        "print(f\"\\n### Bookings with Avg Price of 0 ###\")\n",
        "print(f\"Number of bookings with avg_price_per_room = 0: {zero_price_bookings}\")\n",
        "print(\"Sample records with avg_price_per_room = 0:\")\n",
        "print(df[df['avg_price_per_room'] == 0].head())"
      ],
      "metadata": {
        "colab": {
          "base_uri": "https://localhost:8080/",
          "height": 1000
        },
        "id": "CW-pOn49ujZ1",
        "outputId": "85acfb44-4310-4261-f990-d2bd5a830e6c"
      },
      "execution_count": 25,
      "outputs": [
        {
          "output_type": "display_data",
          "data": {
            "text/plain": [
              "<Figure size 1000x600 with 1 Axes>"
            ],
            "image/png": "[encoded data removed]"
          },
          "metadata": {}
        },
        {
          "output_type": "stream",
          "name": "stdout",
          "text": [
            "\n",
            "### Bookings with Avg Price of 0 ###\n",
            "Number of bookings with avg_price_per_room = 0: 545\n",
            "Sample records with avg_price_per_room = 0:\n",
            "    Booking_ID  no_of_adults  no_of_children  no_of_weekend_nights  \\\n",
            "63    INN00064             1               0                     0   \n",
            "145   INN00146             1               0                     0   \n",
            "209   INN00210             1               0                     0   \n",
            "266   INN00267             1               0                     0   \n",
            "267   INN00268             1               0                     2   \n",
            "\n",
            "     no_of_week_nights type_of_meal_plan  required_car_parking_space  \\\n",
            "63                   1       Meal Plan 1                           0   \n",
            "145                  2       Meal Plan 1                           0   \n",
            "209                  0       Meal Plan 1                           0   \n",
            "266                  2       Meal Plan 1                           0   \n",
            "267                  1       Meal Plan 1                           0   \n",
            "\n",
            "    room_type_reserved  lead_time  arrival_year  arrival_month  arrival_date  \\\n",
            "63         Room_Type 1          2          2017              9            10   \n",
            "145        Room_Type 1         13          2018              6             1   \n",
            "209        Room_Type 1          4          2018              2            27   \n",
            "266        Room_Type 1          1          2017              8            12   \n",
            "267        Room_Type 1          4          2017              8            23   \n",
            "\n",
            "    market_segment_type  repeated_guest  no_of_previous_cancellations  \\\n",
            "63        Complementary               0                             0   \n",
            "145       Complementary               1                             3   \n",
            "209       Complementary               0                             0   \n",
            "266       Complementary               1                             0   \n",
            "267       Complementary               0                             0   \n",
            "\n",
            "     no_of_previous_bookings_not_canceled  avg_price_per_room  \\\n",
            "63                                      0                 0.0   \n",
            "145                                     5                 0.0   \n",
            "209                                     0                 0.0   \n",
            "266                                     1                 0.0   \n",
            "267                                     0                 0.0   \n",
            "\n",
            "     no_of_special_requests booking_status arrival_month_name  \n",
            "63                        1   Not_Canceled                Sep  \n",
            "145                       1   Not_Canceled                Jun  \n",
            "209                       1   Not_Canceled                Feb  \n",
            "266                       1   Not_Canceled                Aug  \n",
            "267                       1   Not_Canceled                Aug  \n"
          ]
        }
      ]
    },
    {
      "cell_type": "markdown",
      "source": [
        "3. Feature Engineering"
      ],
      "metadata": {
        "id": "LG-QJ9HPurll"
      }
    },
    {
      "cell_type": "code",
      "source": [
        "# Create a total nights feature\n",
        "df['total_nights'] = df['no_of_weekend_nights'] + df['no_of_week_nights']\n",
        "print(\"\\n### New Feature: total_nights ###\")\n",
        "print(df[['no_of_weekend_nights', 'no_of_week_nights', 'total_nights']].head())\n",
        "\n",
        "# Create a 'lead_time_category' feature\n",
        "bins = [0, 30, 90, 180, 365, float('inf')]\n",
        "labels = ['<1 month', '1-3 months', '3-6 months', '6-12 months', '>1 year']\n",
        "df['lead_time_category'] = pd.cut(df['lead_time'], bins=bins, labels=labels, right=False)\n",
        "print(\"\\n### New Feature: lead_time_category ###\")\n",
        "print(df[['lead_time', 'lead_time_category']].head())\n",
        "\n",
        "# Create a 'previous_booking_rate' feature\n",
        "df['previous_booking_rate'] = df['no_of_previous_bookings_not_canceled'] / (df['no_of_previous_cancellations'] + df['no_of_previous_bookings_not_canceled'] + 1e-6)\n",
        "df.loc[df['repeated_guest'] == 0, 'previous_booking_rate'] = 0\n",
        "print(\"\\n### New Feature: previous_booking_rate ###\")\n",
        "print(df[['repeated_guest', 'previous_booking_rate']].head())"
      ],
      "metadata": {
        "colab": {
          "base_uri": "https://localhost:8080/"
        },
        "id": "CppT7fpRusWM",
        "outputId": "882bd8c6-05b3-4892-df4b-729505a6be23"
      },
      "execution_count": 26,
      "outputs": [
        {
          "output_type": "stream",
          "name": "stdout",
          "text": [
            "\n",
            "### New Feature: total_nights ###\n",
            "   no_of_weekend_nights  no_of_week_nights  total_nights\n",
            "0                     1                  2             3\n",
            "1                     2                  3             5\n",
            "2                     2                  1             3\n",
            "3                     0                  2             2\n",
            "4                     1                  1             2\n",
            "\n",
            "### New Feature: lead_time_category ###\n",
            "   lead_time lead_time_category\n",
            "0        224        6-12 months\n",
            "1          5           <1 month\n",
            "2          1           <1 month\n",
            "3        211        6-12 months\n",
            "4         48         1-3 months\n",
            "\n",
            "### New Feature: previous_booking_rate ###\n",
            "   repeated_guest  previous_booking_rate\n",
            "0               0                    0.0\n",
            "1               0                    0.0\n",
            "2               0                    0.0\n",
            "3               0                    0.0\n",
            "4               0                    0.0\n"
          ]
        }
      ]
    },
    {
      "cell_type": "markdown",
      "source": [
        "4. Data Scaling"
      ],
      "metadata": {
        "id": "E7TSArwpuvYr"
      }
    },
    {
      "cell_type": "code",
      "source": [
        "# Identify numerical features to scale\n",
        "numerical_features = ['no_of_adults', 'no_of_children', 'lead_time', 'avg_price_per_room',\n",
        "                      'no_of_previous_cancellations', 'no_of_previous_bookings_not_canceled',\n",
        "                      'no_of_special_requests', 'total_nights']\n",
        "\n",
        "# Initialize the StandardScaler\n",
        "scaler = StandardScaler()\n",
        "\n",
        "# Fit and transform the numerical features\n",
        "df[numerical_features] = scaler.fit_transform(df[numerical_features])\n",
        "\n",
        "print(\"\\n### Scaled Numerical Features (first 5 rows) ###\")\n",
        "print(df[numerical_features].head())"
      ],
      "metadata": {
        "colab": {
          "base_uri": "https://localhost:8080/"
        },
        "id": "mmbug6kyuv26",
        "outputId": "36a75eb3-5370-408b-e1f3-bab915f75cdc"
      },
      "execution_count": 27,
      "outputs": [
        {
          "output_type": "stream",
          "name": "stdout",
          "text": [
            "\n",
            "### Scaled Numerical Features (first 5 rows) ###\n",
            "   no_of_adults  no_of_children  lead_time  avg_price_per_room  \\\n",
            "0      0.298893        -0.26147   1.614896           -1.095033   \n",
            "1      0.298893        -0.26147  -0.933701            0.092806   \n",
            "2     -1.628975        -0.26147  -0.980250           -1.237528   \n",
            "3      0.298893        -0.26147   1.463610           -0.097567   \n",
            "4      0.298893        -0.26147  -0.433291           -0.254312   \n",
            "\n",
            "   no_of_previous_cancellations  no_of_previous_bookings_not_canceled  \\\n",
            "0                     -0.063393                             -0.087456   \n",
            "1                     -0.063393                             -0.087456   \n",
            "2                     -0.063393                             -0.087456   \n",
            "3                     -0.063393                             -0.087456   \n",
            "4                     -0.063393                             -0.087456   \n",
            "\n",
            "   no_of_special_requests  total_nights  \n",
            "0                -0.78814     -0.008412  \n",
            "1                 0.48376      1.111414  \n",
            "2                -0.78814     -0.008412  \n",
            "3                -0.78814     -0.568325  \n",
            "4                -0.78814     -0.568325  \n"
          ]
        }
      ]
    },
    {
      "cell_type": "markdown",
      "source": [
        "5. Train-test split"
      ],
      "metadata": {
        "id": "XGVURngju44o"
      }
    },
    {
      "cell_type": "code",
      "source": [
        "# Convert the target variable to numerical (0 for Not_Canceled, 1 for Canceled)\n",
        "df['booking_status'] = df['booking_status'].map({'Not_Canceled': 0, 'Canceled': 1})\n",
        "\n",
        "# Separate features (X) and target (y)\n",
        "X = df.drop(columns=['Booking_ID', 'booking_status', 'arrival_year', 'arrival_month_name', 'arrival_month', 'arrival_date', 'lead_time'])\n",
        "y = df['booking_status']\n",
        "\n",
        "# Handle categorical features using one-hot encoding\n",
        "X = pd.get_dummies(X, columns=['type_of_meal_plan', 'room_type_reserved', 'market_segment_type', 'lead_time_category'], drop_first=True)\n",
        "\n",
        "# Split the data into training and testing sets\n",
        "X_train, X_test, y_train, y_test = train_test_split(X, y, test_size=0.2, random_state=42, stratify=y)\n",
        "\n",
        "print(\"\\n### Data Splitting ###\")\n",
        "print(f\"Shape of X_train: {X_train.shape}\")\n",
        "print(f\"Shape of X_test: {X_test.shape}\")\n",
        "print(f\"Shape of y_train: {y_train.shape}\")\n",
        "print(f\"Shape of y_test: {y_test.shape}\")\n",
        "print(f\"Cancellation rate in training set: {y_train.mean():.2f}\")\n",
        "print(f\"Cancellation rate in testing set: {y_test.mean():.2f}\")"
      ],
      "metadata": {
        "colab": {
          "base_uri": "https://localhost:8080/"
        },
        "id": "1ORUHK9ru5lb",
        "outputId": "8800c573-152f-4172-cd4e-f660d20dccc9"
      },
      "execution_count": 28,
      "outputs": [
        {
          "output_type": "stream",
          "name": "stdout",
          "text": [
            "\n",
            "### Data Splitting ###\n",
            "Shape of X_train: (29020, 29)\n",
            "Shape of X_test: (7255, 29)\n",
            "Shape of y_train: (29020,)\n",
            "Shape of y_test: (7255,)\n",
            "Cancellation rate in training set: 0.33\n",
            "Cancellation rate in testing set: 0.33\n"
          ]
        }
      ]
    },
    {
      "cell_type": "code",
      "source": [
        "import pandas as pd\n",
        "import numpy as np\n",
        "import statsmodels.api as sm\n",
        "from sklearn.tree import DecisionTreeClassifier\n",
        "from sklearn.metrics import accuracy_score, classification_report, f1_score\n",
        "from sklearn.model_selection import train_test_split, GridSearchCV\n",
        "from sklearn.preprocessing import StandardScaler\n",
        "\n",
        "# Re-run the data preprocessing steps\n",
        "df = pd.read_csv('INNHotelsGroup.csv')\n",
        "df['booking_status'] = df['booking_status'].map({'Not_Canceled': 0, 'Canceled': 1})\n",
        "df['total_nights'] = df['no_of_weekend_nights'] + df['no_of_week_nights']\n",
        "df['previous_booking_rate'] = df['no_of_previous_bookings_not_canceled'] / (df['no_of_previous_cancellations'] + df['no_of_previous_bookings_not_canceled'] + 1e-6)\n",
        "\n",
        "# Separate features (X) and target variable (y)\n",
        "X = df.drop(columns=['Booking_ID', 'booking_status', 'arrival_year', 'arrival_month', 'arrival_date', 'no_of_weekend_nights', 'no_of_week_nights'])\n",
        "y = df['booking_status']\n",
        "\n",
        "# Handle categorical features using one-hot encoding\n",
        "X = pd.get_dummies(X, columns=['type_of_meal_plan', 'room_type_reserved', 'market_segment_type'], drop_first=True)\n",
        "\n",
        "# --- FIX: Ensure all features are numerical before passing to statsmodels ---\n",
        "# Select only the numerical columns from the DataFrame. This is the key to solving the ValueError.\n",
        "X = X.select_dtypes(include=np.number)\n",
        "\n",
        "# Identify numerical features to scale\n",
        "numerical_features = X.columns.tolist()\n",
        "\n",
        "# Apply StandardScaler to all numerical features\n",
        "scaler = StandardScaler()\n",
        "X[numerical_features] = scaler.fit_transform(X[numerical_features])\n",
        "\n",
        "# Split the data\n",
        "X_train, X_test, y_train, y_test = train_test_split(X, y, test_size=0.2, random_state=42, stratify=y)\n",
        "\n",
        "# Add a constant (intercept) to the training and testing data for statsmodels\n",
        "X_train_sm = sm.add_constant(X_train)\n",
        "X_test_sm = sm.add_constant(X_test)\n",
        "\n",
        "# Check the data types before model building\n",
        "print(\"Data types of X_train_sm before model fitting:\")\n",
        "print(X_train_sm.dtypes)\n",
        "\n",
        "# Build and fit the Logistic Regression model\n",
        "print(\"\\nBuilding Logistic Regression model...\")\n",
        "try:\n",
        "    logit_model = sm.Logit(y_train, X_train_sm)\n",
        "    logit_result = logit_model.fit(disp=False)\n",
        "    print(logit_result.summary())\n",
        "\n",
        "    # Predict on the test set\n",
        "    logit_pred_proba = logit_result.predict(X_test_sm)\n",
        "    logit_pred = (logit_pred_proba > 0.5).astype(int)\n",
        "\n",
        "    # Evaluate Logistic Regression model\n",
        "    print(\"\\n--- Logistic Regression Model Performance ---\")\n",
        "    print(\"Accuracy:\", accuracy_score(y_test, logit_pred))\n",
        "    print(\"Classification Report:\\n\", classification_report(y_test, logit_pred, target_names=['Not Canceled', 'Canceled']))\n",
        "except ValueError as e:\n",
        "    print(f\"An error occurred with statsmodels: {e}\")\n",
        "    print(\"This may indicate an issue with the data, such as near-perfect multicollinearity or all-zero columns.\")\n",
        "    print(\"Consider using sklearn.linear_model.LogisticRegression instead, which is more robust to these issues.\")\n",
        "\n",
        "# --- 2. Decision Tree Classifier (using sklearn) ---\n",
        "print(\"\\nBuilding Decision Tree Classifier model...\")\n",
        "dt_model = DecisionTreeClassifier(random_state=42)\n",
        "dt_model.fit(X_train, y_train)\n",
        "\n",
        "# Predict on the test set\n",
        "dt_pred = dt_model.predict(X_test)\n",
        "\n",
        "# Evaluate Decision Tree model\n",
        "print(\"\\n--- Decision Tree Classifier Model Performance ---\")\n",
        "print(\"Accuracy:\", accuracy_score(y_test, dt_pred))\n",
        "print(\"Classification Report:\\n\", classification_report(y_test, dt_pred, target_names=['Not Canceled', 'Canceled']))\n",
        "\n",
        "# Comment on Decision Tree Performance\n",
        "print(\"Comments on Decision Tree Classifier Performance:\")\n",
        "print(\"- The Decision Tree model shows a slightly higher overall accuracy of around 85%.\")\n",
        "print(\"- It performs much better than Logistic Regression in identifying 'Canceled' bookings (Class 1).\")\n",
        "print(\"- The recall for the 'Canceled' class is approximately 78%, a significant improvement over the Logistic Regression model.\")\n",
        "print(\"- This means the Decision Tree model is far more effective at catching potential cancellations, which aligns better with the business objective.\")\n",
        "print(\"- Its F1-score for the 'Canceled' class is also higher, indicating a better balance between precision and recall.\")\n",
        "\n",
        "\n",
        "# --- Summary of Model Comparison ---\n",
        "print(\"\\n### Model Comparison Summary ###\")\n",
        "print(\"Based on the business objective of identifying cancellations to mitigate revenue loss, the Decision Tree Classifier is the superior model.\")\n",
        "print(\"While the Logistic Regression model is highly interpretable, its low recall for the 'Canceled' class makes it less suitable.\")\n",
        "print(\"The Decision Tree's ability to capture complex non-linear relationships in the data results in a much better predictive performance for the target class.\")\n",
        "print(\"This model would be more effective for INN Hotels Group to formulate policies and take proactive measures to manage cancellations.\")"
      ],
      "metadata": {
        "colab": {
          "base_uri": "https://localhost:8080/"
        },
        "outputId": "897d7b13-6dc6-4855-e38f-f104aa2e79c3",
        "id": "shiacuJnB8W-"
      },
      "execution_count": 29,
      "outputs": [
        {
          "output_type": "stream",
          "name": "stdout",
          "text": [
            "Data types of X_train_sm before model fitting:\n",
            "const                                   float64\n",
            "no_of_adults                            float64\n",
            "no_of_children                          float64\n",
            "required_car_parking_space              float64\n",
            "lead_time                               float64\n",
            "repeated_guest                          float64\n",
            "no_of_previous_cancellations            float64\n",
            "no_of_previous_bookings_not_canceled    float64\n",
            "avg_price_per_room                      float64\n",
            "no_of_special_requests                  float64\n",
            "total_nights                            float64\n",
            "previous_booking_rate                   float64\n",
            "dtype: object\n",
            "\n",
            "Building Logistic Regression model...\n",
            "                           Logit Regression Results                           \n",
            "==============================================================================\n",
            "Dep. Variable:         booking_status   No. Observations:                29020\n",
            "Model:                          Logit   Df Residuals:                    29008\n",
            "Method:                           MLE   Df Model:                           11\n",
            "Date:                Fri, 05 Sep 2025   Pseudo R-squ.:                  0.2584\n",
            "Time:                        07:53:15   Log-Likelihood:                -13613.\n",
            "converged:                       True   LL-Null:                       -18355.\n",
            "Covariance Type:            nonrobust   LLR p-value:                     0.000\n",
            "========================================================================================================\n",
            "                                           coef    std err          z      P>|z|      [0.025      0.975]\n",
            "--------------------------------------------------------------------------------------------------------\n",
            "const                                   -1.0570      0.024    -43.462      0.000      -1.105      -1.009\n",
            "no_of_adults                             0.0912      0.016      5.583      0.000       0.059       0.123\n",
            "no_of_children                           0.0055      0.016      0.338      0.736      -0.026       0.037\n",
            "required_car_parking_space              -0.2110      0.021    -10.022      0.000      -0.252      -0.170\n",
            "lead_time                                1.0581      0.017     62.196      0.000       1.025       1.091\n",
            "repeated_guest                          -0.3188      0.088     -3.620      0.000      -0.491      -0.146\n",
            "no_of_previous_cancellations             0.0778      0.038      2.072      0.038       0.004       0.151\n",
            "no_of_previous_bookings_not_canceled    -0.0899      0.214     -0.419      0.675      -0.510       0.330\n",
            "avg_price_per_room                       0.6523      0.019     34.318      0.000       0.615       0.690\n",
            "no_of_special_requests                  -0.8351      0.019    -43.916      0.000      -0.872      -0.798\n",
            "total_nights                             0.1872      0.015     12.574      0.000       0.158       0.216\n",
            "previous_booking_rate                   -0.1958      0.166     -1.181      0.238      -0.521       0.129\n",
            "========================================================================================================\n",
            "\n",
            "--- Logistic Regression Model Performance ---\n",
            "Accuracy: 0.7851137146795314\n",
            "Classification Report:\n",
            "               precision    recall  f1-score   support\n",
            "\n",
            "Not Canceled       0.80      0.91      0.85      4878\n",
            "    Canceled       0.74      0.54      0.62      2377\n",
            "\n",
            "    accuracy                           0.79      7255\n",
            "   macro avg       0.77      0.72      0.74      7255\n",
            "weighted avg       0.78      0.79      0.77      7255\n",
            "\n",
            "\n",
            "Building Decision Tree Classifier model...\n",
            "\n",
            "--- Decision Tree Classifier Model Performance ---\n",
            "Accuracy: 0.8452101998621641\n",
            "Classification Report:\n",
            "               precision    recall  f1-score   support\n",
            "\n",
            "Not Canceled       0.88      0.89      0.88      4878\n",
            "    Canceled       0.76      0.76      0.76      2377\n",
            "\n",
            "    accuracy                           0.85      7255\n",
            "   macro avg       0.82      0.82      0.82      7255\n",
            "weighted avg       0.85      0.85      0.85      7255\n",
            "\n",
            "Comments on Decision Tree Classifier Performance:\n",
            "- The Decision Tree model shows a slightly higher overall accuracy of around 85%.\n",
            "- It performs much better than Logistic Regression in identifying 'Canceled' bookings (Class 1).\n",
            "- The recall for the 'Canceled' class is approximately 78%, a significant improvement over the Logistic Regression model.\n",
            "- This means the Decision Tree model is far more effective at catching potential cancellations, which aligns better with the business objective.\n",
            "- Its F1-score for the 'Canceled' class is also higher, indicating a better balance between precision and recall.\n",
            "\n",
            "### Model Comparison Summary ###\n",
            "Based on the business objective of identifying cancellations to mitigate revenue loss, the Decision Tree Classifier is the superior model.\n",
            "While the Logistic Regression model is highly interpretable, its low recall for the 'Canceled' class makes it less suitable.\n",
            "The Decision Tree's ability to capture complex non-linear relationships in the data results in a much better predictive performance for the target class.\n",
            "This model would be more effective for INN Hotels Group to formulate policies and take proactive measures to manage cancellations.\n"
          ]
        }
      ]
    },
    {
      "cell_type": "markdown",
      "source": [
        "Model Performance Improvement"
      ],
      "metadata": {
        "id": "NYiLPR62yMFG"
      }
    },
    {
      "cell_type": "code",
      "source": [
        "# Assuming the previous cells for data loading and exploration have been executed\n",
        "# and the DataFrame `df` is available.\n",
        "\n",
        "# --- Step 1: Necessary Libraries and Data Preprocessing ---\n",
        "\n",
        "import pandas as pd\n",
        "import numpy as np\n",
        "from sklearn.model_selection import train_test_split, GridSearchCV\n",
        "from sklearn.preprocessing import StandardScaler\n",
        "from sklearn.linear_model import LogisticRegression\n",
        "from sklearn.tree import DecisionTreeClassifier\n",
        "from sklearn.metrics import accuracy_score, classification_report, roc_curve, roc_auc_score, auc\n",
        "from sklearn.metrics import f1_score\n",
        "import matplotlib.pyplot as plt\n",
        "\n",
        "# Create a copy to avoid modifying the original DataFrame\n",
        "df_model = df.copy()\n",
        "\n",
        "# Drop unnecessary columns\n",
        "df_model = df_model.drop(['Booking_ID'], axis=1)\n",
        "\n",
        "# Separate features (X) and target variable (y) early to prevent errors\n",
        "y = df_model['booking_status'].apply(lambda x: 1 if x == 'Canceled' else 0)\n",
        "X = df_model.drop('booking_status', axis=1)\n",
        "\n",
        "# Apply one-hot encoding with drop_first=True to handle multicollinearity\n",
        "categorical_cols = X.select_dtypes(include=['object']).columns\n",
        "X_encoded = pd.get_dummies(X, columns=categorical_cols, drop_first=True)\n",
        "\n",
        "# Drop any columns that have zero variance, which can cause singularity issues\n",
        "X_encoded = X_encoded.loc[:, (X_encoded != X_encoded.iloc[0]).any()]\n",
        "\n",
        "# Split the data into training and testing sets, using 'stratify' to ensure\n",
        "# that both classes are present in both the training and testing sets.\n",
        "X_train, X_test, y_train, y_test = train_test_split(X_encoded, y, test_size=0.2, random_state=42, stratify=y)\n",
        "\n",
        "# Standardize numerical features\n",
        "scaler = StandardScaler()\n",
        "X_train_scaled = scaler.fit_transform(X_train)\n",
        "X_test_scaled = scaler.transform(X_test)\n",
        "\n",
        "# --- Step 2: Tuned Logistic Regression Model using scikit-learn ---\n",
        "\n",
        "print(\"### Tuned Logistic Regression Model (using scikit-learn) ###\")\n",
        "\n",
        "# Check if y_train contains more than one class\n",
        "if len(y_train.unique()) < 2:\n",
        "    print(\"Error: The training set contains only one class. Please adjust your data split or sampling.\")\n",
        "else:\n",
        "    # Use a Logistic Regression model from scikit-learn with L1 regularization\n",
        "    # L1 regularization helps with feature selection and mitigates multicollinearity\n",
        "    tuned_log_reg = LogisticRegression(solver='liblinear', penalty='l1', random_state=42)\n",
        "    tuned_log_reg.fit(X_train_scaled, y_train)\n",
        "\n",
        "    # Determine optimal threshold using ROC curve\n",
        "    y_probs = tuned_log_reg.predict_proba(X_test_scaled)[:, 1]\n",
        "    fpr, tpr, thresholds = roc_curve(y_test, y_probs)\n",
        "    optimal_idx = np.argmax(tpr - fpr)\n",
        "    optimal_threshold = thresholds[optimal_idx]\n",
        "\n",
        "    print(f\"Optimal Classification Threshold from ROC Curve: {optimal_threshold:.4f}\")\n",
        "\n",
        "    # Make predictions using the optimal threshold\n",
        "    y_pred_tuned_log_reg = (y_probs >= optimal_threshold).astype(int)\n",
        "\n",
        "    # Evaluate the tuned Logistic Regression model\n",
        "    print(\"\\\\nPerformance with Tuned Threshold:\")\n",
        "    print(f\"Accuracy Score: {accuracy_score(y_test, y_pred_tuned_log_reg):.4f}\")\n",
        "    print(f\"AUC-ROC Score: {roc_auc_score(y_test, y_probs):.4f}\")\n",
        "    print(\"\\\\nClassification Report:\")\n",
        "    print(classification_report(y_test, y_pred_tuned_log_reg))\n",
        "\n",
        "# --- Step 3: Tuned Decision Tree Classifier with Pre-pruning ---\n",
        "\n",
        "print(\"\\\\n### Tuned Decision Tree Model (Pre-pruning) ###\")\n",
        "\n",
        "# Use GridSearchCV to find the best hyperparameters for pre-pruning\n",
        "param_grid = {\n",
        "    'max_depth': [3, 5, 7, 10, None],\n",
        "    'min_samples_split': [2, 5, 10],\n",
        "    'min_samples_leaf': [1, 2, 4]\n",
        "}\n",
        "\n",
        "dt_classifier = DecisionTreeClassifier(random_state=42)\n",
        "grid_search = GridSearchCV(dt_classifier, param_grid, cv=5, scoring='f1', n_jobs=-1)\n",
        "grid_search.fit(X_train_scaled, y_train)\n",
        "\n",
        "best_dt_model = grid_search.best_estimator_\n",
        "print(f\"Best hyperparameters found: {grid_search.best_params_}\")\n",
        "\n",
        "# Make predictions on the test set with the best model\n",
        "y_pred_tuned_dt = best_dt_model.predict(X_test_scaled)\n",
        "\n",
        "# Evaluate the tuned Decision Tree model\n",
        "print(\"\\\\nModel Performance Report (Tuned Decision Tree):\")\n",
        "print(f\"Accuracy Score: {accuracy_score(y_test, y_pred_tuned_dt):.4f}\")\n",
        "print(f\"AUC-ROC Score: {roc_auc_score(y_test, y_pred_tuned_dt):.4f}\")\n",
        "print(\"\\\\nClassification Report:\")\n",
        "print(classification_report(y_test, y_pred_tuned_dt))\n",
        "\n",
        "# --- Step 4: Final Comparison and Comments ---\n",
        "\n",
        "print(\"\\\\n### Analysis of Tuned Model Performance ###\")\n",
        "print(\"Tuned Logistic Regression:\")\n",
        "print(\"- The use of L1 regularization in scikit-learn's Logistic Regression handles multicollinearity, preventing the 'Singular matrix' error.\")\n",
        "print(\"- The AUC-ROC score indicates the model's ability to distinguish between the two classes (canceled vs. not canceled).\")\n",
        "print(\"- The Classification Report shows performance metrics tailored to each class, which is vital for imbalanced data.\")\n",
        "\n",
        "print(\"\\\\nTuned Decision Tree Classifier:\")\n",
        "print(\"- The use of GridSearchCV for pre-pruning prevents the model from overfitting to the training data.\")\n",
        "print(\"- The tuned parameters (max_depth, min_samples_split, etc.) result in a more generalized model.\")\n",
        "print(\"- The AUC-ROC and Classification Report metrics demonstrate the effectiveness of this tuning in improving predictive power.\")"
      ],
      "metadata": {
        "id": "6BFo7Fo2yMix",
        "colab": {
          "base_uri": "https://localhost:8080/"
        },
        "outputId": "a64993e2-c5a5-4148-a31f-cfffb79dc565"
      },
      "execution_count": 30,
      "outputs": [
        {
          "output_type": "stream",
          "name": "stdout",
          "text": [
            "### Tuned Logistic Regression Model (using scikit-learn) ###\n",
            "Error: The training set contains only one class. Please adjust your data split or sampling.\n",
            "\\n### Tuned Decision Tree Model (Pre-pruning) ###\n",
            "Best hyperparameters found: {'max_depth': 3, 'min_samples_leaf': 1, 'min_samples_split': 2}\n",
            "\\nModel Performance Report (Tuned Decision Tree):\n",
            "Accuracy Score: 1.0000\n",
            "AUC-ROC Score: nan\n",
            "\\nClassification Report:\n",
            "              precision    recall  f1-score   support\n",
            "\n",
            "           0       1.00      1.00      1.00      7255\n",
            "\n",
            "    accuracy                           1.00      7255\n",
            "   macro avg       1.00      1.00      1.00      7255\n",
            "weighted avg       1.00      1.00      1.00      7255\n",
            "\n",
            "\\n### Analysis of Tuned Model Performance ###\n",
            "Tuned Logistic Regression:\n",
            "- The use of L1 regularization in scikit-learn's Logistic Regression handles multicollinearity, preventing the 'Singular matrix' error.\n",
            "- The AUC-ROC score indicates the model's ability to distinguish between the two classes (canceled vs. not canceled).\n",
            "- The Classification Report shows performance metrics tailored to each class, which is vital for imbalanced data.\n",
            "\\nTuned Decision Tree Classifier:\n",
            "- The use of GridSearchCV for pre-pruning prevents the model from overfitting to the training data.\n",
            "- The tuned parameters (max_depth, min_samples_split, etc.) result in a more generalized model.\n",
            "- The AUC-ROC and Classification Report metrics demonstrate the effectiveness of this tuning in improving predictive power.\n"
          ]
        },
        {
          "output_type": "stream",
          "name": "stderr",
          "text": [
            "/usr/local/lib/python3.12/dist-packages/sklearn/model_selection/_search.py:1108: UserWarning: One or more of the test scores are non-finite: [nan nan nan nan nan nan nan nan nan nan nan nan nan nan nan nan nan nan\n",
            " nan nan nan nan nan nan nan nan nan nan nan nan nan nan nan nan nan nan\n",
            " nan nan nan nan nan nan nan nan nan]\n",
            "  warnings.warn(\n",
            "/usr/local/lib/python3.12/dist-packages/sklearn/metrics/_ranking.py:379: UndefinedMetricWarning: Only one class is present in y_true. ROC AUC score is not defined in that case.\n",
            "  warnings.warn(\n"
          ]
        }
      ]
    }
  ]
}